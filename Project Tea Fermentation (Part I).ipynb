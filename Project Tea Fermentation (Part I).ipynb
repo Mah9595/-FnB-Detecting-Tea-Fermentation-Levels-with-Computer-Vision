{
 "cells": [
  {
   "cell_type": "markdown",
   "metadata": {},
   "source": [
    "# <font color = \"red\">[READ THIS] Before you start</font>\n",
    "Welcome to UpLevel mini-projects! In this series, you're challenged to independently work (with our guidance) with data that you will collect to UpLevel yourself. \n",
    "\n",
    "We hope you're excited to embark on this adventure.\n",
    "### Warning:\n",
    "This isn't just any coding course or programmes, where you receive helper code as you move from one code block to another. \n",
    "\n",
    "This is when things get <em>real</em>.\n",
    "\n",
    "In this project, you will receive instructions to execute a task along with an intended outcome. Most importantly, we will provide you with directions you can go to, to pick up code independently and implement it in this notebook.\n",
    "\n",
    "Don't worry though, we'll be dropping lots of resources you can consult and these readings will contain everything you need to succeed. You can also perform independent research to find answers independently. You just have to read closely and pick out the parts that make most sense. \n",
    "\n",
    "<strong>We make you do this not because we're lazy bastards but because being able to indepedently find code is a highly underrated skill and that's something all companies look out for.</strong>\n",
    "\n",
    "If you're really stuck and are on the verge of giving up, we gotchu fam. Head on over to https://www.facebook.com/UpLevelSG/ and post your questions there. \n",
    "\n",
    "### What we'll be doing:\n",
    "In this project, we will do the following:\n",
    "\n",
    "1. Data collection and literature review (Part I)\n",
    "2. <font color = 'orange'>[Google Colab]</font> Setting up project environment and splitting data for project (Part II)\n",
    "3. <font color = 'orange'>[Google Colab]</font> Building a neural network from scratch to classify tea fermentation level (Part III)\n",
    "4. <font color = 'orange'>[Google Colab]</font> Extract local binary patterns from the image data\n",
    "5. <font color = 'orange'>[Google Colab]</font> Perform machine learning modelling to classify tea fermentation based on local binary patterns (Part V)\n",
    "\n",
    "### Expectations:\n",
    "We're not going to sugarcoat it - it'll be challenging at times. You have to promise to put in the time and effort to UpLevel yourself. \n",
    "\n",
    "But we promise you that it'll ultimately be fun and rewarding, and you'll come out of it stronger and more confident than before."
   ]
  },
  {
   "cell_type": "markdown",
   "metadata": {},
   "source": [
    "<div style=\"background-color: #78E8A3; padding: 20px\">\n",
    "<h3>Project Scenario</h3>\n",
    "<p>You're a tea farmer in Kenya.</p>\n",
    "<p>Before tea can be sold, the tea must be fermented. If it is under- or over-fermented, the taste profile of the tea is non-optimal and you would get a bad taste.</p> \n",
    "<p>Testing for the correct levels of fermentation is manual and time-consiming, and the constant activity introduces the risk of tea spoilage. Image recognition is a safe and cheap way to test for fermentation levels instead since you can assess the level of fermentation remotely.</p>\n",
    "<p>You came acros a research publication describing exactly what you need. In this project, you will replicate the study and use computer vision + machine learning techniques to classify levels of tea fermentaion based on their images.</p> \n",
    "</div>"
   ]
  },
  {
   "cell_type": "markdown",
   "metadata": {},
   "source": [
    "# Introduction\n",
    "In this notebook, you will do the following:\n",
    "1. Download and read the scientific paper\n",
    "2. Pick the scientific article apart\n",
    "3. Download the image dataset"
   ]
  },
  {
   "cell_type": "markdown",
   "metadata": {},
   "source": [
    "### Step 1: Check the literature out\n",
    "As mentioned, we will be replicating a study published in https://www.mdpi.com/2306-5729/5/2/44/htm.\n",
    "\n",
    "Head on there and read the paper from beginning to end. \n",
    "\n",
    "Expect to spend 1-2 hours on this, depending on your attention span.\n",
    "\n",
    "![PublicationTop](https://uplevelsg.s3-ap-southeast-1.amazonaws.com/ProjectTeaFermentation/PublicationTop.png)"
   ]
  },
  {
   "cell_type": "markdown",
   "metadata": {},
   "source": [
    "### Step 2: Identify the pieces of work that we will be replicating\n",
    "Once again, make sure you have read the paper from top to bottom. \n",
    "\n",
    "These are some points to take note of.\n",
    "\n",
    "#### 1. Tea Fermentation Dataset\n",
    "\n",
    "![TeaFermentationDataset](https://uplevelsg.s3-ap-southeast-1.amazonaws.com/ProjectTeaFermentation/TeaFermentationDataset.png)\n",
    "\n",
    "This part gives us a short description on what dataset you will be working with, the classes, and followed by the split used for model training and validation and testing. \n",
    "\n",
    "#### 2. TeaNet\n",
    "\n",
    "![TeaNetDescription](https://uplevelsg.s3-ap-southeast-1.amazonaws.com/ProjectTeaFermentation/TeaNetDescription.png)\n",
    "\n",
    "This part tells us about the architecture of the deep learning model that we will be using later on in our subsequent parts. Make sure you look at Table 4 - we will be referring to it closely. \n",
    "\n",
    "#### 3. Texture Feature Extraction\n",
    "\n",
    "![TextueFeatureExtraction](https://uplevelsg.s3-ap-southeast-1.amazonaws.com/ProjectTeaFermentation/TextureFeatureExtraction.png)\n",
    "\n",
    "This part of the article tells us about techiques used to extract information from the image dataset. We will be using this information in Part IV."
   ]
  },
  {
   "cell_type": "markdown",
   "metadata": {},
   "source": [
    "### Step 3: Download the dataset into your project folder\n",
    "Speaking of image dataset, let's head on to download (<a href=\"https://md-datasets-cache-zipfiles-prod.s3.eu-west-1.amazonaws.com/cbpf92vr5j-1.zip\">here</a>) to download the images.\n",
    "\n",
    "It's quite a large dataset, at over 450 MB. Within the zip file is another zip file so you're unzipping twice. \n",
    "\n",
    "Save the unzipped folder (\"Black tea fermentation dataset\") in the same directory as your other notebooks in this series.\n",
    "\n",
    "```\n",
    "CourseMaterials\n",
    "│   Project Tea Fermentation (Part I).ipynb\n",
    "│   Project Tea Fermentation (Part II).ipynb\n",
    "│   Project Tea Fermentation (Part III).ipynb\n",
    "│   Project Tea Fermentation (Part IV).ipynb\n",
    "│   Project Tea Fermentation (Part V).ipynb    \n",
    "│\n",
    "└───Black tea fermentation dataset\n",
    "    │\n",
    "    └───fermented tea\n",
    "    │   │   fermented.png\n",
    "    │   │   fermented_0.png\n",
    "    │   │   ...\n",
    "    │\n",
    "    └───overfermented tea\n",
    "    │   │   overfermented.png\n",
    "    │   │   overfermented_0.png\n",
    "    │   │   ...\n",
    "    │\n",
    "    └───underfermented tea\n",
    "        │   underfermented.png\n",
    "        │   underfermented_0.png\n",
    "        │   ...\n",
    "```"
   ]
  },
  {
   "cell_type": "markdown",
   "metadata": {},
   "source": [
    "### End of Part I\n",
    "We're off to a good start. In this Part, we read through our research paper, examined the methods used, and finally downloaded the data for our project.\n",
    "\n",
    "<font color = 'red'>Important:</font> In the next Part, we will need to use Google Colab so make sure you have a Google account."
   ]
  }
 ],
 "metadata": {
  "kernelspec": {
   "display_name": "Python 3",
   "language": "python",
   "name": "python3"
  },
  "language_info": {
   "codemirror_mode": {
    "name": "ipython",
    "version": 3
   },
   "file_extension": ".py",
   "mimetype": "text/x-python",
   "name": "python",
   "nbconvert_exporter": "python",
   "pygments_lexer": "ipython3",
   "version": "3.8.3"
  }
 },
 "nbformat": 4,
 "nbformat_minor": 4
}
